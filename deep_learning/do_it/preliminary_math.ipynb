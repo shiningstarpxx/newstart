version https://git-lfs.github.com/spec/v1
oid sha256:6305f0df4209480b491f4e77816e82c8e30ee6c677b7b1ec6a49a393fdb95e9e
size 13153
