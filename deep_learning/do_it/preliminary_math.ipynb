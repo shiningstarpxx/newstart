version https://git-lfs.github.com/spec/v1
oid sha256:b04822d12a2dc24a249bee76f9d71bcf3356a492e8882b7ee04d078acbb1de7e
size 13153
