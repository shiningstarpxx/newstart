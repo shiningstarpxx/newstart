version https://git-lfs.github.com/spec/v1
oid sha256:7d9a880ec9ce14e9a6480289f175dae3e912eb65d78f9d3126e3b7720cf363b6
size 12967
