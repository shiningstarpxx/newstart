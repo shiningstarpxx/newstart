version https://git-lfs.github.com/spec/v1
oid sha256:17c63f32205609847e44337f2e9d4705d9f9cf499e41ee13faa214d27f2292fc
size 4941
