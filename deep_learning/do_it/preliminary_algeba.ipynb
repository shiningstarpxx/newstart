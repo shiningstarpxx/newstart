version https://git-lfs.github.com/spec/v1
oid sha256:b29ff36a809b1ad4c3fcba045151683b54420d711ffc032b99a62938ae075c58
size 16749
