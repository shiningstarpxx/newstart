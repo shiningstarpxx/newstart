version https://git-lfs.github.com/spec/v1
oid sha256:80c0c975e52b67653a01d19e86b6934334551ea7b924440a47aed771f42bf978
size 809
