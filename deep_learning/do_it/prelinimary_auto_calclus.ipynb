version https://git-lfs.github.com/spec/v1
oid sha256:741f0034240548a80f5b537db1a146c0dc4448801905e57699a037395b4342a4
size 625
