version https://git-lfs.github.com/spec/v1
oid sha256:b38d260c75cf9e2969761e2f74522ba6df15d6946b6f61b13fb06b2714ee0239
size 272
