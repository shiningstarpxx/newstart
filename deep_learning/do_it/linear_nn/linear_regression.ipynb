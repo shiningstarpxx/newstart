version https://git-lfs.github.com/spec/v1
oid sha256:9432a3e0010451983f6493af899b285a166eb1c891a82cddefe3472b5da1d421
size 34992
