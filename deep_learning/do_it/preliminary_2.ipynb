version https://git-lfs.github.com/spec/v1
oid sha256:b5d041dbee6a10528e0e76acab4fdd3da536a63f78730868b7c71375a29b4f10
size 5126
