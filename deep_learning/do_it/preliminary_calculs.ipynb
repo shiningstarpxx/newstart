version https://git-lfs.github.com/spec/v1
oid sha256:914598d27fc4d867c517713b0de10292b881b892506b660d26af02fcd9b1497c
size 25873
