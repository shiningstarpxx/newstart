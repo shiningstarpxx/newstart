version https://git-lfs.github.com/spec/v1
oid sha256:3caaf4490f2980b1feed2a77bb3ffcd866cabcbeedcb590fe8e8b768b8f235d0
size 26059
